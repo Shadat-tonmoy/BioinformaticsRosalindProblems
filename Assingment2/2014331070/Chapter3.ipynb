{
 "cells": [
  {
   "cell_type": "code",
   "execution_count": null,
   "metadata": {},
   "outputs": [],
   "source": [
    "#ba3a\n",
    "k = int(input())\n",
    "text = input()\n",
    "output = list()\n",
    "for i in range(0,len(text)-k+1):\n",
    "    kmer = text[i:i+k]\n",
    "    output.append(kmer)\n",
    "output.sort()\n",
    "for i in output:\n",
    "    print(i)"
   ]
  },
  {
   "cell_type": "code",
   "execution_count": null,
   "metadata": {},
   "outputs": [],
   "source": [
    "#ba3b\n",
    "inputStr = list()\n",
    "while True:\n",
    "    string = input()\n",
    "    if string:\n",
    "        inputStr.append(string)\n",
    "    else :\n",
    "        break\n",
    "output = inputStr[0]\n",
    "for i in range(1,len(inputStr)):\n",
    "    output+=inputStr[i][len(inputStr[i])-1]\n",
    "print(output)"
   ]
  },
  {
   "cell_type": "code",
   "execution_count": null,
   "metadata": {},
   "outputs": [],
   "source": [
    "#ba3c\n",
    "inputStr = list()\n",
    "overlapGraph = list()\n",
    "while True:\n",
    "    str = input()\n",
    "    if str:\n",
    "        inputStr.append(str)\n",
    "    else :\n",
    "        break\n",
    "\n",
    "def buildOverlapGraph():\n",
    "    for str in inputStr:\n",
    "        prefix = str[0:len(str)-1]\n",
    "        suffix = str[1:]\n",
    "        for i in inputStr:\n",
    "            if not i==str and suffix in i:\n",
    "                overlapGraph.append(str+\" -> \"+i)\n",
    "                break\n",
    "    overlapGraph.sort()\n",
    "buildOverlapGraph()\n",
    "\n",
    "for i in overlapGraph:\n",
    "    print(i)"
   ]
  },
  {
   "cell_type": "code",
   "execution_count": null,
   "metadata": {},
   "outputs": [],
   "source": [
    "#ba3d\n",
    "k = int(input())\n",
    "inputStr = input()\n",
    "deBrujnGraph = dict()\n",
    "keys = list()\n",
    "for i in range(0,len(inputStr)-k+1):\n",
    "    a = inputStr[i:i+k-1]\n",
    "    b = inputStr[i+1:i+k]\n",
    "    if not a in deBrujnGraph:\n",
    "        deBrujnGraph[a] = list()\n",
    "        keys.append(a)\n",
    "    deBrujnGraph[a].append(b)\n",
    "keys.sort()\n",
    "for key in keys:\n",
    "    deBrujnGraph[key].sort()\n",
    "    print(key+\" -> \"+\",\".join(deBrujnGraph[key]))"
   ]
  },
  {
   "cell_type": "code",
   "execution_count": null,
   "metadata": {},
   "outputs": [],
   "source": [
    "#ba3e\n",
    "inputStr = list()\n",
    "deBrujinGraph = dict()\n",
    "keys = list()\n",
    "\n",
    "while True:\n",
    "    str = input()\n",
    "    if str:\n",
    "        inputStr.append(str)\n",
    "    else:\n",
    "        break\n",
    "for str in inputStr:\n",
    "    a = str[0:len(str)-1]\n",
    "    b = str[1:len(str)]\n",
    "    if not a in deBrujinGraph:\n",
    "        deBrujinGraph[a] = list()\n",
    "        keys.append(a)\n",
    "    deBrujinGraph[a].append(b)\n",
    "keys.sort()\n",
    "for key in keys:\n",
    "    deBrujinGraph[key].sort()\n",
    "    print(key+\" -> \"+\",\".join(deBrujinGraph[key]))"
   ]
  }
 ],
 "metadata": {
  "kernelspec": {
   "display_name": "Python 3",
   "language": "python",
   "name": "python3"
  },
  "language_info": {
   "codemirror_mode": {
    "name": "ipython",
    "version": 3
   },
   "file_extension": ".py",
   "mimetype": "text/x-python",
   "name": "python",
   "nbconvert_exporter": "python",
   "pygments_lexer": "ipython3",
   "version": "3.6.5"
  }
 },
 "nbformat": 4,
 "nbformat_minor": 2
}
