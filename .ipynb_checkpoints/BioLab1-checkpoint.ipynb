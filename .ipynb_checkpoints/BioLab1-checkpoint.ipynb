{
 "cells": [
  {
   "cell_type": "code",
   "execution_count": 5,
   "metadata": {},
   "outputs": [
    {
     "ename": "SyntaxError",
     "evalue": "invalid syntax (<ipython-input-5-0c47e5373eed>, line 1)",
     "output_type": "error",
     "traceback": [
      "\u001b[0;36m  File \u001b[0;32m\"<ipython-input-5-0c47e5373eed>\"\u001b[0;36m, line \u001b[0;32m1\u001b[0m\n\u001b[0;31m    (/task1)\u001b[0m\n\u001b[0m     ^\u001b[0m\n\u001b[0;31mSyntaxError\u001b[0m\u001b[0;31m:\u001b[0m invalid syntax\n"
     ]
    }
   ],
   "source": [
    "//task1"
   ]
  },
  {
   "cell_type": "code",
   "execution_count": 56,
   "metadata": {},
   "outputs": [
    {
     "name": "stdout",
     "output_type": "stream",
     "text": [
      "5\n"
     ]
    }
   ],
   "source": [
    "#task1\n",
    "text = \"HelloHelloHelloManHelloIMHello\"\n",
    "pattern = \"Hello\"\n",
    "freq = 0\n",
    "for i in range(0,len(text)):\n",
    "    if text[i]==pattern[0]:\n",
    "        found = False\n",
    "#         print(i)\n",
    "        k = i\n",
    "        for j in range(0,len(pattern)):\n",
    "            if pattern[j]==text[k]:\n",
    "                k+=1\n",
    "                found = True\n",
    "            else :\n",
    "                found = False\n",
    "                break\n",
    "        if found:\n",
    "            freq+=1\n",
    "print (freq)\n",
    "        \n",
    "\n"
   ]
  },
  {
   "cell_type": "code",
   "execution_count": 55,
   "metadata": {},
   "outputs": [
    {
     "name": "stdout",
     "output_type": "stream",
     "text": [
      "Max Freqency is  5  Pattern is  Hel\n"
     ]
    }
   ],
   "source": [
    "#task2\n",
    "text = \"HelloHelloHelloManHelloIMHello\"\n",
    "length = 3\n",
    "max_freq = 0\n",
    "max_freq_str = \"\"\n",
    "freq = {}\n",
    "for i in range(0,len(text)-length):\n",
    "    substr = text[i:i+length]\n",
    "    if substr in freq:\n",
    "        freq[substr]+=1\n",
    "        if freq[substr] > max_freq:\n",
    "            max_freq = freq[substr]\n",
    "            max_freq_str = substr\n",
    "    else :\n",
    "        freq[substr] = 1\n",
    "print (\"Max Freqency is \",max_freq,\" Pattern is \",max_freq_str)"
   ]
  },
  {
   "cell_type": "code",
   "execution_count": 32,
   "metadata": {},
   "outputs": [
    {
     "name": "stdout",
     "output_type": "stream",
     "text": [
      "Pattern  Hel  Occurence  5\n",
      "Pattern  ell  Occurence  5\n",
      "Pattern  llo  Occurence  4\n",
      "Pattern  loH  Occurence  2\n",
      "Pattern  oHe  Occurence  2\n",
      "Pattern  loM  Occurence  1\n",
      "Pattern  oMa  Occurence  1\n",
      "Pattern  Man  Occurence  1\n",
      "Pattern  anH  Occurence  1\n",
      "Pattern  nHe  Occurence  1\n",
      "Pattern  loI  Occurence  1\n",
      "Pattern  oIM  Occurence  1\n",
      "Pattern  IMH  Occurence  1\n",
      "Pattern  MHe  Occurence  1\n"
     ]
    }
   ],
   "source": [
    "#task3\n",
    "text = \"HelloHelloHelloManHelloIMHello\"\n",
    "length = 3\n",
    "freq = {}\n",
    "for i in range(0,len(text)-length):\n",
    "    substr = text[i:i+length]\n",
    "    if substr in freq:\n",
    "        freq[substr]+=1\n",
    "        if freq[substr] > max_freq:\n",
    "            max_freq = freq[substr]\n",
    "            max_freq_str = substr\n",
    "    else :\n",
    "        freq[substr] = 1\n",
    "for key in freq:\n",
    "    print(\"Pattern \",key,\" Occurence \",freq[key])"
   ]
  },
  {
   "cell_type": "code",
   "execution_count": 48,
   "metadata": {},
   "outputs": [
    {
     "name": "stdout",
     "output_type": "stream",
     "text": [
      "abc\n",
      "acb\n",
      "bac\n",
      "bca\n",
      "cab\n",
      "cba\n",
      "bcd\n",
      "bdc\n",
      "cbd\n",
      "cdb\n",
      "dbc\n",
      "dcb\n",
      "cde\n",
      "ced\n",
      "dce\n",
      "dec\n",
      "ecd\n",
      "edc\n",
      "def\n",
      "dfe\n",
      "edf\n",
      "efd\n",
      "fde\n",
      "fed\n",
      "efg\n",
      "egf\n",
      "feg\n",
      "fge\n",
      "gef\n",
      "gfe\n",
      "fgh\n",
      "fhg\n",
      "gfh\n",
      "ghf\n",
      "hfg\n",
      "hgf\n",
      "ghi\n",
      "gih\n",
      "hgi\n",
      "hig\n",
      "igh\n",
      "ihg\n",
      "hij\n",
      "hji\n",
      "ihj\n",
      "ijh\n",
      "jhi\n",
      "jih\n",
      "ijk\n",
      "ikj\n",
      "jik\n",
      "jki\n",
      "kij\n",
      "kji\n",
      "jkl\n",
      "jlk\n",
      "kjl\n",
      "klj\n",
      "ljk\n",
      "lkj\n",
      "klm\n",
      "kml\n",
      "lkm\n",
      "lmk\n",
      "mkl\n",
      "mlk\n",
      "lmn\n",
      "lnm\n",
      "mln\n",
      "mnl\n",
      "nlm\n",
      "nml\n",
      "mno\n",
      "mon\n",
      "nmo\n",
      "nom\n",
      "omn\n",
      "onm\n",
      "nop\n",
      "npo\n",
      "onp\n",
      "opn\n",
      "pno\n",
      "pon\n",
      "opq\n",
      "oqp\n",
      "poq\n",
      "pqo\n",
      "qop\n",
      "qpo\n",
      "pqr\n",
      "prq\n",
      "qpr\n",
      "qrp\n",
      "rpq\n",
      "rqp\n",
      "qrs\n",
      "qsr\n",
      "rqs\n",
      "rsq\n",
      "sqr\n",
      "srq\n",
      "rst\n",
      "rts\n",
      "srt\n",
      "str\n",
      "trs\n",
      "tsr\n",
      "stu\n",
      "sut\n",
      "tsu\n",
      "tus\n",
      "ust\n",
      "uts\n",
      "tuv\n",
      "tvu\n",
      "utv\n",
      "uvt\n",
      "vtu\n",
      "vut\n",
      "uvw\n",
      "uwv\n",
      "vuw\n",
      "vwu\n",
      "wuv\n",
      "wvu\n",
      "vwx\n",
      "vxw\n",
      "wvx\n",
      "wxv\n",
      "xvw\n",
      "xwv\n",
      "wxy\n",
      "wyx\n",
      "xwy\n",
      "xyw\n",
      "ywx\n",
      "yxw\n",
      "xyz\n",
      "xzy\n",
      "yxz\n",
      "yzx\n",
      "zxy\n",
      "zyx\n"
     ]
    }
   ],
   "source": [
    "#task4\n",
    "from itertools import permutations\n",
    "from string import ascii_lowercase\n",
    "text = \"\"\n",
    "for c in ascii_lowercase:\n",
    "    text+=c\n",
    "for i in range(0,len(text)-2):\n",
    "    string = text[i:i+3]\n",
    "    perm = list(permutations(string))\n",
    "    for p in perm:\n",
    "        print (''.join(p))\n",
    "    "
   ]
  },
  {
   "cell_type": "code",
   "execution_count": 53,
   "metadata": {},
   "outputs": [
    {
     "name": "stdout",
     "output_type": "stream",
     "text": [
      "[[1 2]\n",
      " [3 4]]\n",
      "[[5 6]\n",
      " [7 8]]\n",
      "[[19 22]\n",
      " [43 50]]\n"
     ]
    }
   ],
   "source": [
    "#task5\n",
    "import numpy as np\n",
    "A = np.matrix('1 2; 3 4')\n",
    "B = np.matrix('5 6; 7 8')\n",
    "print (A)\n",
    "print (B)\n",
    "ans = np.matrix(A*B)\n",
    "print (ans)"
   ]
  }
 ],
 "metadata": {
  "kernelspec": {
   "display_name": "Python 3",
   "language": "python",
   "name": "python3"
  },
  "language_info": {
   "codemirror_mode": {
    "name": "ipython",
    "version": 3
   },
   "file_extension": ".py",
   "mimetype": "text/x-python",
   "name": "python",
   "nbconvert_exporter": "python",
   "pygments_lexer": "ipython3",
   "version": "3.6.5"
  }
 },
 "nbformat": 4,
 "nbformat_minor": 2
}
