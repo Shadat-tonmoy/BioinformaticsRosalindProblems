{
 "cells": [
  {
   "cell_type": "code",
   "execution_count": 25,
   "metadata": {},
   "outputs": [
    {
     "name": "stdout",
     "output_type": "stream",
     "text": [
      "CGACA\n",
      "GAAGA\n",
      "AATGT\n"
     ]
    }
   ],
   "source": [
    "#TASK -- 1\n",
    "inputStr = \"CGGACTCGACAGATGTGAAGAAATGTGAAGACTGAGTGAAGAGAAGAGGAAACACGACACGACATTGCGACATAATGTACGAATGTAATGTGCCTATGGC\"\n",
    "l = 75\n",
    "k = 5 \n",
    "t = 4\n",
    "strlen = len(inputStr)\n",
    "freq = dict()\n",
    "visited = dict()\n",
    "output = list()\n",
    "for i in range(0,strlen):\n",
    "    if i+l <= strlen: \n",
    "        substr = inputStr[i:i+l]\n",
    "        substrlen = len(substr)\n",
    "        for j in range(0,substrlen):\n",
    "            pattern = substr[j:j+k]\n",
    "            if len(pattern)==k:\n",
    "                c = substr.count(pattern)\n",
    "                if c==t:\n",
    "                    if not pattern in visited:\n",
    "                        visited[pattern]= True\n",
    "                        output.append(pattern)\n",
    "                        \n",
    "for p in output:\n",
    "    print (p)"
   ]
  },
  {
   "cell_type": "code",
   "execution_count": 38,
   "metadata": {},
   "outputs": [
    {
     "name": "stdout",
     "output_type": "stream",
     "text": [
      "53\n",
      "97\n"
     ]
    }
   ],
   "source": [
    "#TASK -- 2\n",
    "import math\n",
    "inputStr = \"CCTATCGGTGGATTAGCATGTCCCTGTACGTTTCGCCGCGAACTAGTTCACACGGCTTGATGGCAAATGGTTTTTCCGGCGACCGTAATCGTCCACCGAG\"\n",
    "countG = 0\n",
    "countC = 0\n",
    "indexVal = dict()\n",
    "minGC = 999999999999999999\n",
    "index = 1\n",
    "for i in inputStr:\n",
    "    if i=='G' or i=='C':\n",
    "        if i=='G':\n",
    "            countG+=1\n",
    "        elif i=='C':\n",
    "            countC+=1\n",
    "        diff = countG-countC\n",
    "        indexVal[index]=diff\n",
    "#         print (indexVal[index])\n",
    "        minGC = min(minGC,diff)\n",
    "    index+=1\n",
    "for i in indexVal:\n",
    "    if indexVal[i] == minGC:\n",
    "        print (i)"
   ]
  },
  {
   "cell_type": "code",
   "execution_count": 51,
   "metadata": {},
   "outputs": [
    {
     "name": "stdout",
     "output_type": "stream",
     "text": [
      "30\n",
      "['T', 'C', 'G', 'G', 'G', 'G', 'A', 'T', 'T', 'T', 'C', 'C']\n"
     ]
    }
   ],
   "source": [
    "#TASK -- 3\n",
    "inputStr = \"T C G G G G G T T T T T\\nC C G G T G A C T T A C\\nA C G G G G A T T T T C\\nT T G G G G A C T T T T\\nA A G G G G A C T T C C\\nT T G G G G A C T T C C\\nT C G G G G A T T C A T\\nT C G G G G A T T C C T\\nT A G G G G A A C T A C\\nT C G G G T A T A A C C\"\n",
    "lines = inputStr.split('\\n')\n",
    "listOfChars = list()\n",
    "rows = 10\n",
    "cols = 12\n",
    "for l in lines:\n",
    "    chars = l.split(\" \")\n",
    "    listOfChars.append(chars)\n",
    "maxFreq = 0\n",
    "score = 0\n",
    "maxFreqChar = ''\n",
    "seq = list()\n",
    "for i in range(0,cols):\n",
    "    maxFreq = 0\n",
    "    freq = dict()\n",
    "    for j in range(0,rows):\n",
    "        char = listOfChars[j][i]\n",
    "        if not char in freq:\n",
    "            freq[char]=1\n",
    "        else :\n",
    "            freq[char]+=1\n",
    "        if freq[char]>maxFreq:\n",
    "            maxFreq = freq[char]\n",
    "            maxFreqChar = char\n",
    "    diff = rows - maxFreq\n",
    "    score+=diff\n",
    "    seq.append(maxFreqChar)\n",
    "print(score)\n",
    "print(seq)\n",
    "        \n",
    "    \n",
    "    "
   ]
  },
  {
   "cell_type": "code",
   "execution_count": 89,
   "metadata": {},
   "outputs": [
    {
     "name": "stdout",
     "output_type": "stream",
     "text": [
      "A  [0.4, 0.2, 0.0, 0.2, 0.0, 0.0]\n",
      "C  [0.2, 0.6, 0.0, 0.0, 0.2, 0.0]\n",
      "G  [0.0, 0.0, 0.8, 0.8, 0.6, 1.0]\n",
      "T  [0.4, 0.2, 0.2, 0.0, 0.2, 0.0]\n"
     ]
    }
   ],
   "source": [
    "#TASK -- 4\n",
    "inputStr = \"TCGGGG\\nCCGGTG\\nACGGGG\\nTTGGGG\\nAATACG\"\n",
    "lines = inputStr.split('\\n')\n",
    "listOfChars = list()\n",
    "rows = 5\n",
    "cols = 6\n",
    "output = list()\n",
    "ans = dict()\n",
    "\n",
    "\n",
    "\n",
    "for i in range(0,rows):\n",
    "    chars = list()\n",
    "    for j in lines[i]:\n",
    "        chars.append(j)\n",
    "    listOfChars.append(chars)\n",
    "\n",
    "for i in range(0,cols):\n",
    "    freq = dict()\n",
    "    probab = dict()\n",
    "    for j in range(0,rows):\n",
    "        char = listOfChars[j][i]\n",
    "#         print(char)\n",
    "        if not char in freq:\n",
    "            freq[char]=1\n",
    "        else :\n",
    "            freq[char]+=1\n",
    "        probab[char] = freq[char]/rows\n",
    "    if not 'A' in probab:\n",
    "        probab['A']=0.0\n",
    "    if not 'C' in probab:\n",
    "        probab['C']=0.0\n",
    "    if not 'G' in probab:\n",
    "        probab['G']=0.0\n",
    "    if not 'T' in probab:\n",
    "        probab['T']=0.0\n",
    "        \n",
    "    output.append(probab)\n",
    "\n",
    "for o in output:\n",
    "    values = list()\n",
    "    for key in o:\n",
    "        if not key in ans:\n",
    "            ans[key] = list()\n",
    "            ans[key].append(o[key])\n",
    "        else : ans[key].append(o[key])\n",
    "    \n",
    "print(\"A \",ans['A'])\n",
    "print(\"C \",ans['C'])\n",
    "print(\"G \",ans['G'])\n",
    "print(\"T \",ans['T'])\n",
    "    \n",
    "    \n",
    "        \n",
    "    \n",
    "        "
   ]
  },
  {
   "cell_type": "code",
   "execution_count": 110,
   "metadata": {},
   "outputs": [
    {
     "name": "stdout",
     "output_type": "stream",
     "text": [
      "CCGAG\n"
     ]
    }
   ],
   "source": [
    "#TASK --5\n",
    "inputStr = \"ACCTGTTTATTGCCTAAGTTCCGAACAAACCCAATATAGCCCGAGGGCCT\"\n",
    "\n",
    "probA = [0.2, 0.2, 0.3, 0.2, 0.3]\n",
    "probC = [0.4, 0.3, 0.1, 0.5, 0.1]\n",
    "probG = [0.3, 0.3, 0.5, 0.2, 0.4]\n",
    "probT = [0.1, 0.2, 0.1, 0.1, 0.2]\n",
    "posOut = dict()\n",
    "k = 5\n",
    "strLen = len(inputStr)\n",
    "maxProb = 0\n",
    "for i in range(0,strLen):\n",
    "    totalProb = 1\n",
    "    if i+k<=strLen:\n",
    "        substr = inputStr[i:i+k]\n",
    "        for j in range(0,k):\n",
    "            if(substr[j] == 'A'):\n",
    "                totalProb *= probA[j]\n",
    "            if(substr[j] == 'C'):\n",
    "                totalProb *= probC[j]\n",
    "            if(substr[j] == 'G'):\n",
    "                totalProb *= probG[j]\n",
    "            if(substr[j] == 'T'):\n",
    "                totalProb *= probT[j]\n",
    "        posOut[substr] = totalProb\n",
    "        if totalProb > maxProb:\n",
    "            maxProb = totalProb\n",
    "for key in posOut:\n",
    "    if posOut[key] == maxProb:\n",
    "        print(key)"
   ]
  },
  {
   "cell_type": "code",
   "execution_count": 104,
   "metadata": {},
   "outputs": [
    {
     "name": "stdout",
     "output_type": "stream",
     "text": [
      "5\n"
     ]
    }
   ],
   "source": [
    "#TASK --6\n",
    "pattern = \"AAA\"\n",
    "dnaString = \"TTACCTTAAC GATATCTGTC ACGGCGTTCG CCCTAAAGAG CGTCAGAGGT\"\n",
    "strList = dnaString.split(\" \")\n",
    "patternLen = len(pattern)\n",
    "ans = 0\n",
    "minDiff = 9999999999\n",
    "for s in strList:\n",
    "    slen = len(s)\n",
    "#     print(s)\n",
    "    minDiff = 9999999999\n",
    "    for i in range(0,slen):\n",
    "        substr = s[i:i+patternLen]\n",
    "        if len(substr)==patternLen:\n",
    "#             print(substr)\n",
    "            diff = 0;\n",
    "            for j,k in zip(pattern,substr):\n",
    "                if not j==k:\n",
    "                    diff+=1\n",
    "            minDiff = min(minDiff,diff)\n",
    "#             print(minDiff)\n",
    "    ans+=minDiff\n",
    "    \n",
    "print(ans)\n",
    "    \n"
   ]
  }
 ],
 "metadata": {
  "kernelspec": {
   "display_name": "Python 3",
   "language": "python",
   "name": "python3"
  },
  "language_info": {
   "codemirror_mode": {
    "name": "ipython",
    "version": 3
   },
   "file_extension": ".py",
   "mimetype": "text/x-python",
   "name": "python",
   "nbconvert_exporter": "python",
   "pygments_lexer": "ipython3",
   "version": "3.6.5"
  }
 },
 "nbformat": 4,
 "nbformat_minor": 2
}
