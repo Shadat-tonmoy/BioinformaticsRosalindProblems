{
 "cells": [
  {
   "cell_type": "code",
   "execution_count": 11,
   "metadata": {},
   "outputs": [
    {
     "name": "stdout",
     "output_type": "stream",
     "text": [
      "MAMAPRTEINSTRING\n"
     ]
    }
   ],
   "source": [
    "#task 1\n",
    "codonMap = {\"UUU\":\"F\", \"UUC\":\"F\", \"UUA\":\"L\", \"UUG\":\"L\",\n",
    "    \"UCU\":\"S\", \"UCC\":\"s\", \"UCA\":\"S\", \"UCG\":\"S\",\n",
    "    \"UAU\":\"Y\", \"UAC\":\"Y\", \"UAA\":\"STOP\", \"UAG\":\"STOP\",\n",
    "    \"UGU\":\"C\", \"UGC\":\"C\", \"UGA\":\"STOP\", \"UGG\":\"W\",\n",
    "    \"CUU\":\"L\", \"CUC\":\"L\", \"CUA\":\"L\", \"CUG\":\"L\",\n",
    "    \"CCU\":\"P\", \"CCC\":\"P\", \"CCA\":\"P\", \"CCG\":\"P\",\n",
    "    \"CAU\":\"H\", \"CAC\":\"H\", \"CAA\":\"Q\", \"CAG\":\"Q\",\n",
    "    \"CGU\":\"R\", \"CGC\":\"R\", \"CGA\":\"R\", \"CGG\":\"R\",\n",
    "    \"AUU\":\"I\", \"AUC\":\"I\", \"AUA\":\"I\", \"AUG\":\"M\",\n",
    "    \"ACU\":\"T\", \"ACC\":\"T\", \"ACA\":\"T\", \"ACG\":\"T\",\n",
    "    \"AAU\":\"N\", \"AAC\":\"N\", \"AAA\":\"K\", \"AAG\":\"K\",\n",
    "    \"AGU\":\"S\", \"AGC\":\"S\", \"AGA\":\"R\", \"AGG\":\"R\",\n",
    "    \"GUU\":\"V\", \"GUC\":\"V\", \"GUA\":\"V\", \"GUG\":\"V\",\n",
    "    \"GCU\":\"A\", \"GCC\":\"A\", \"GCA\":\"A\", \"GCG\":\"A\",\n",
    "    \"GAU\":\"D\", \"GAC\":\"D\", \"GAA\":\"E\", \"GAG\":\"E\",\n",
    "    \"GGU\":\"G\", \"GGC\":\"G\", \"GGA\":\"G\", \"GGG\":\"G\",}\n",
    "inputString = \"AUGGCCAUGGCGCCCAGAACUGAGAUCAAUAGUACCCGUAUUAACGGGUGA\"\n",
    "outputString = \"\"\n",
    "for i in range(0,len(inputString),3):\n",
    "    subStr = inputString[i:i+3]\n",
    "    codonKey = codonMap[subStr]\n",
    "    if codonKey == \"STOP\":\n",
    "        break\n",
    "    outputString += codonKey\n",
    "print(outputString)\n",
    "    \n",
    "    "
   ]
  },
  {
   "cell_type": "code",
   "execution_count": 64,
   "metadata": {
    "scrolled": true
   },
   "outputs": [
    {
     "name": "stdout",
     "output_type": "stream",
     "text": [
      "ATGGCC\n",
      "ATGGCC\n",
      "GGCCAT\n"
     ]
    }
   ],
   "source": [
    "#task - 2\n",
    "codonMap = {\"UUU\":\"F\", \"UUC\":\"F\", \"UUA\":\"L\", \"UUG\":\"L\",\n",
    "    \"UCU\":\"S\", \"UCC\":\"s\", \"UCA\":\"S\", \"UCG\":\"S\",\n",
    "    \"UAU\":\"Y\", \"UAC\":\"Y\", \"UAA\":\"STOP\", \"UAG\":\"STOP\",\n",
    "    \"UGU\":\"C\", \"UGC\":\"C\", \"UGA\":\"STOP\", \"UGG\":\"W\",\n",
    "    \"CUU\":\"L\", \"CUC\":\"L\", \"CUA\":\"L\", \"CUG\":\"L\",\n",
    "    \"CCU\":\"P\", \"CCC\":\"P\", \"CCA\":\"P\", \"CCG\":\"P\",\n",
    "    \"CAU\":\"H\", \"CAC\":\"H\", \"CAA\":\"Q\", \"CAG\":\"Q\",\n",
    "    \"CGU\":\"R\", \"CGC\":\"R\", \"CGA\":\"R\", \"CGG\":\"R\",\n",
    "    \"AUU\":\"I\", \"AUC\":\"I\", \"AUA\":\"I\", \"AUG\":\"M\",\n",
    "    \"ACU\":\"T\", \"ACC\":\"T\", \"ACA\":\"T\", \"ACG\":\"T\",\n",
    "    \"AAU\":\"N\", \"AAC\":\"N\", \"AAA\":\"K\", \"AAG\":\"K\",\n",
    "    \"AGU\":\"S\", \"AGC\":\"S\", \"AGA\":\"R\", \"AGG\":\"R\",\n",
    "    \"GUU\":\"V\", \"GUC\":\"V\", \"GUA\":\"V\", \"GUG\":\"V\",\n",
    "    \"GCU\":\"A\", \"GCC\":\"A\", \"GCA\":\"A\", \"GCG\":\"A\",\n",
    "    \"GAU\":\"D\", \"GAC\":\"D\", \"GAA\":\"E\", \"GAG\":\"E\",\n",
    "    \"GGU\":\"G\", \"GGC\":\"G\", \"GGA\":\"G\", \"GGG\":\"G\",}\n",
    "inputRNA = \"ATGGCCATGGCCCCCAGAACTGAGATCAATAGTACCCGTATTAACGGGTGA\"\n",
    "inputDNA = inputRNA.replace(\"T\",\"U\")\n",
    "inputRNA2 = getReverseCompliment(inputRNA)\n",
    "# print(inputRNA2)\n",
    "inputDNA2 = inputRNA2.replace(\"T\",\"U\")\n",
    "# print(inputDNA)\n",
    "inputPattern = \"MA\"\n",
    "\n",
    "def isOK (subStr,target):\n",
    "    for key in codonMap:\n",
    "        value = codonMap[key]\n",
    "        if key == subStr and value == target:\n",
    "            return True\n",
    "    return False\n",
    "\n",
    "def getReverseCompliment(inputStr):\n",
    "    inputStr = inputStr[::-1]\n",
    "    inputList = list(inputStr)\n",
    "    for i in range(0,len(inputList)):\n",
    "        if inputList[i]=='A':\n",
    "            inputList[i]='T'\n",
    "        elif inputList[i]=='T':\n",
    "            inputList[i]='A'\n",
    "        elif inputList[i]=='G':\n",
    "            inputList[i]='C'\n",
    "        elif inputList[i]=='C':\n",
    "            inputList[i]='G'\n",
    "    resultStr = \"\".join(inputList)\n",
    "    return resultStr\n",
    "\n",
    "j=0\n",
    "for i in range(0,len(inputDNA)-2):\n",
    "    subStr = inputDNA[i:i+3]\n",
    "#     print(subStr)\n",
    "    if isOK(subStr,inputPattern[j]):\n",
    "        done = True\n",
    "#         print(\"OK for \",subStr)\n",
    "        for k in range(0,len(inputPattern)):\n",
    "            subLen = k*3;\n",
    "            subStr = inputDNA[subLen:subLen+3]\n",
    "            if isOK(subStr,inputPattern[k]):\n",
    "                done = True\n",
    "            else : \n",
    "                done = False\n",
    "                break\n",
    "        if done:\n",
    "#             print(\"Done For \",i)\n",
    "            print(inputRNA[i:i+len(inputPattern)*3])\n",
    "\n",
    "# print(inputDNA2)\n",
    "# print(inputRNA2)\n",
    "for i in range(0,len(inputDNA2)-2):\n",
    "    subStr = inputDNA2[i:i+3]\n",
    "#     print(subStr)\n",
    "    if isOK(subStr,inputPattern[j]):\n",
    "        done = True\n",
    "#         print(\"OK for \",subStr,\" at \",i)\n",
    "        for k in range(0,len(inputPattern)):\n",
    "            subLen = k*3;\n",
    "            subStr = inputDNA2[i+subLen:i+subLen+3]\n",
    "#             print(\"Checking With \",subStr,\" at \",i+subLen)\n",
    "            if isOK(subStr,inputPattern[k]):\n",
    "#                 print(\"OK \",subStr)\n",
    "                done = True\n",
    "            else : \n",
    "                done = False\n",
    "                break\n",
    "        if done:\n",
    "#             print(\"Done For \",i)\n",
    "            print(getReverseCompliment(inputRNA2[i:i+len(inputPattern)*3]))\n",
    "    \n",
    "#    print(isOK(subStr,inputPattern[0]))\n"
   ]
  },
  {
   "cell_type": "code",
   "execution_count": 65,
   "metadata": {},
   "outputs": [
    {
     "name": "stdout",
     "output_type": "stream",
     "text": [
      "{'G': 57, 'A': 71, 'S': 87, 'P': 97, 'V': 99, 'T': 101, 'C': 103, 'I': 113, 'L': 113, 'N': 114, 'D': 115, 'K': 128, 'Q': 128, 'E': 129, 'M': 131, 'H': 137, 'F': 147, 'R': 156, 'Y': 163, 'W': 186}\n"
     ]
    }
   ],
   "source": [
    "#task 3\n",
    "valueMap = { \"G\":57,\"A\":71,\"S\":87,\"P\":97,\"V\":99,\"T\":101,\"C\":103,\"I\":113,\"L\":113,\"N\":114,\"D\":115,\n",
    "            \"K\":128,\"Q\":128,\"E\":129,\"M\":131,\"H\":137,\"F\":147,\"R\":156,\"Y\":163,\"W\":186}\n",
    "\n",
    "print(valueMap)"
   ]
  }
 ],
 "metadata": {
  "kernelspec": {
   "display_name": "Python 3",
   "language": "python",
   "name": "python3"
  },
  "language_info": {
   "codemirror_mode": {
    "name": "ipython",
    "version": 3
   },
   "file_extension": ".py",
   "mimetype": "text/x-python",
   "name": "python",
   "nbconvert_exporter": "python",
   "pygments_lexer": "ipython3",
   "version": "3.6.5"
  }
 },
 "nbformat": 4,
 "nbformat_minor": 2
}
